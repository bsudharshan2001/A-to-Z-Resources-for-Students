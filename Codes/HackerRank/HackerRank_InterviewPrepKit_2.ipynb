{
  "nbformat": 4,
  "nbformat_minor": 0,
  "metadata": {
    "colab": {
      "name": "HackerRank-InterviewPrepKit_2.ipynb",
      "provenance": [],
      "authorship_tag": "ABX9TyMayzd4apSTRmvgidHfXwjs",
      "include_colab_link": true
    },
    "kernelspec": {
      "name": "python3",
      "display_name": "Python 3"
    },
    "language_info": {
      "name": "python"
    }
  },
  "cells": [
    {
      "cell_type": "markdown",
      "metadata": {
        "id": "view-in-github",
        "colab_type": "text"
      },
      "source": [
        "<a href=\"https://colab.research.google.com/github/bsudharshan2001/A-to-Z-Resources-for-Students/blob/master/Codes/HackerRank/HackerRank_InterviewPrepKit_2.ipynb\" target=\"_parent\"><img src=\"https://colab.research.google.com/assets/colab-badge.svg\" alt=\"Open In Colab\"/></a>"
      ]
    },
    {
      "cell_type": "code",
      "metadata": {
        "colab": {
          "base_uri": "https://localhost:8080/"
        },
        "id": "W2-f0iEpIEMz",
        "outputId": "7d92862e-2a66-4285-da6a-d278ff17c2ac"
      },
      "source": [
        "n =3\n",
        "arr = [[11,2,4],\n",
        "[4,5,6],\n",
        "[10,8,-12]]\n",
        "sumL=sumR=0\n",
        "for i in range(0,n):\n",
        "  for j in range(0,n):\n",
        "    if(i==j):\n",
        "      sumL+=arr[i][j]\n",
        "    if(i+j==n-1):\n",
        "      sumR+=arr[i][j]\n",
        "print(sumL)\n",
        "print(sumR)\n",
        "ad=abs(sumL-sumR)\n",
        "print(ad)\n"
      ],
      "execution_count": 6,
      "outputs": [
        {
          "output_type": "stream",
          "name": "stdout",
          "text": [
            "4\n",
            "19\n",
            "15\n"
          ]
        }
      ]
    },
    {
      "cell_type": "code",
      "metadata": {
        "id": "ulFiUZdPvAk9"
      },
      "source": [
        "#!/bin/python3\n",
        "\n",
        "import math\n",
        "import os\n",
        "import random\n",
        "import re\n",
        "import sys\n",
        "\n",
        "#\n",
        "# Complete the 'diagonalDifference' function below.\n",
        "#\n",
        "# The function is expected to return an INTEGER.\n",
        "# The function accepts 2D_INTEGER_ARRAY arr as parameter.\n",
        "#\n",
        "\n",
        "def diagonalDifference(arr):\n",
        "    # Write your code here\n",
        "    sumL=sumR=0\n",
        "    n=len(arr)\n",
        "    for i in range(0,n):\n",
        "        for j in range(0,n):\n",
        "            if(i==j):\n",
        "                sumL+=arr[i][j]\n",
        "            if(i+j==n-1):\n",
        "                sumR+=arr[i][j]\n",
        "    ad=abs(sumL-sumR)\n",
        "    return ad\n",
        "\n",
        "if __name__ == '__main__':\n",
        "    fptr = open(os.environ['OUTPUT_PATH'], 'w')\n",
        "\n",
        "    n = int(input().strip())\n",
        "\n",
        "    arr = []\n",
        "\n",
        "    for _ in range(n):\n",
        "        arr.append(list(map(int, input().rstrip().split())))\n",
        "\n",
        "    result = diagonalDifference(arr)\n",
        "\n",
        "    fptr.write(str(result) + '\\n')\n",
        "\n",
        "    fptr.close()\n"
      ],
      "execution_count": null,
      "outputs": []
    },
    {
      "cell_type": "code",
      "metadata": {
        "id": "HQt61p0bvpZE"
      },
      "source": [
        "s=input()\n",
        "alpha=['a','b','c','d','e','f','g','h','i','j','k','l','m','n','o','p','q','r','s','t','u','v','w','x','y','z','A','B','C','D','E','F','G']\n",
        "for i in range(0,len(s)):\n",
        "  if(s[i] in alpha):\n",
        "    count+=1\n",
        "    \n",
        "\n",
        "if(count==26):\n",
        "  print()\n"
      ],
      "execution_count": null,
      "outputs": []
    }
  ]
}